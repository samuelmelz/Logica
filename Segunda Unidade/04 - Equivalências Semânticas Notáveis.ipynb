{
 "cells": [
  {
   "cell_type": "markdown",
   "id": "76407403",
   "metadata": {},
   "source": [
    "# Equivalências Semânticas Notáveis\n"
   ]
  },
  {
   "cell_type": "markdown",
   "id": "6fc36ca5",
   "metadata": {},
   "source": [
    "### Tautologia\n",
    "\n",
    "p v ~p ⇔ t"
   ]
  },
  {
   "cell_type": "markdown",
   "id": "ee3b0885",
   "metadata": {},
   "source": [
    "### Contradição\n",
    "\n",
    "p ^ ~p ⇔ c"
   ]
  },
  {
   "cell_type": "markdown",
   "id": "7f72398f",
   "metadata": {},
   "source": [
    "### Remoção da bi-condicional\n",
    "\n",
    "p <-> q ⇔ (p -> q) ^ (q -> p)"
   ]
  },
  {
   "cell_type": "markdown",
   "id": "6f3fd6a2",
   "metadata": {},
   "source": [
    "### Remoção da condicional\n",
    "\n",
    "p -> q ⇔ ~p v q"
   ]
  },
  {
   "cell_type": "markdown",
   "id": "cc099605",
   "metadata": {},
   "source": [
    "### Leis de Morgan\n",
    "\n",
    "~(p ^ q) ⇔ ~p v ~q\n",
    "\n",
    "~(p v q) ⇔ ~p ^ ~q\n"
   ]
  },
  {
   "cell_type": "markdown",
   "id": "a626ad7b",
   "metadata": {},
   "source": [
    "### Contrapositiva\n",
    "\n",
    "p -> q ⇔ ~q -> ~p"
   ]
  },
  {
   "cell_type": "markdown",
   "id": "8e1cb4f7",
   "metadata": {},
   "source": [
    "### Outras\n",
    "\n",
    "p <-> q ⇔ ~(p ⊻ q)\n",
    "\n",
    "p v p ⇔ p\n",
    "\n",
    "p ^ p ⇔ p\n",
    "\n",
    "t v p ⇔ t\n",
    "\n",
    "t ^ p ⇔ p\n",
    "\n",
    "c v p ⇔ p \n",
    "\n",
    "c ^ p ⇔ c"
   ]
  }
 ],
 "metadata": {
  "kernelspec": {
   "display_name": "Python 3",
   "language": "python",
   "name": "python3"
  },
  "language_info": {
   "codemirror_mode": {
    "name": "ipython",
    "version": 3
   },
   "file_extension": ".py",
   "mimetype": "text/x-python",
   "name": "python",
   "nbconvert_exporter": "python",
   "pygments_lexer": "ipython3",
   "version": "3.9.2"
  }
 },
 "nbformat": 4,
 "nbformat_minor": 5
}
