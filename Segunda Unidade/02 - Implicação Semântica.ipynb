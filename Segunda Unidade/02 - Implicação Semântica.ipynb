{
 "cells": [
  {
   "cell_type": "markdown",
   "id": "f91a8c0c",
   "metadata": {},
   "source": [
    "# Implicação semântica\n",
    "Ao ouvir falar de implicação semântica, lembramos da operação de implicação vista na unidade anterior. A implicação semântica é esta mesma relação, porém entre duas fórmulas ao invés de duas proposições.\n",
    "\n",
    "Como sabemos, na implicação, o único caso falso ocorre quando a condição é verdadeira e a consequência é falsa. Portanto, nos importa analisar apenas quando a condição é verdadeira. Dizemos que uma fórmula implica em outra se para todo valor lógico V da condição, houver o valor lógico V na consequência, para qualquer interpretação possível.\n",
    "\n",
    "Para analisar a implicação entre duas fórmulas G e H, basta que façamos G -> H. Se esta fórmula for uma tautologia, a fórmula G implica na fórmula H. Diferentemente da equivalência, se trocarmos a posição das fórmulas, podemos ter um resultado diferente.\n",
    "\n",
    "Para representar esta relação entre fórmulas, usa-se o símbolo ⇒ ou |=. O símbolo -> é usado para indicar uma operação lógica.\n",
    "\n",
    "#### Exemplo: \n",
    "\n",
    "H = p ^ q\n",
    "\n",
    "G = p v r\n",
    "\n",
    "\n",
    "Se H -> G é uma tautologia, H implica em G.\n",
    "\n",
    "Se H -> G não é uma tautologia, H não implica em G."
   ]
  },
  {
   "cell_type": "code",
   "execution_count": 1,
   "id": "e8506d32",
   "metadata": {},
   "outputs": [
    {
     "name": "stdout",
     "output_type": "stream",
     "text": [
      "+-------+-------+-----------+----------+-------------------------+\n",
      "|   p   |   q   |  p and q  |  p or q  |  (p and q) => (p or q)  |\n",
      "|-------+-------+-----------+----------+-------------------------|\n",
      "| True  | True  |   True    |   True   |          True           |\n",
      "| True  | False |   False   |   True   |          True           |\n",
      "| False | True  |   False   |   True   |          True           |\n",
      "| False | False |   False   |  False   |          True           |\n",
      "+-------+-------+-----------+----------+-------------------------+\n",
      "\n",
      "A fórmula-condição implica na fórmula-consequência\n"
     ]
    }
   ],
   "source": [
    "import ttg\n",
    "\n",
    "table=(ttg.Truths([\"p\", \"q\"], ['p and q', 'p or q', '(p and q) => (p or q)'], ints=False))\n",
    "print(table)\n",
    "if(table.valuation()==\"Tautology\"):\n",
    "    print(\"\\nA fórmula-condição implica na fórmula-consequência\")\n",
    "else:\n",
    "    print(\"\\nA fórmula-condição não implica na fórmula-consequência\")"
   ]
  },
  {
   "cell_type": "markdown",
   "id": "c715f4db",
   "metadata": {},
   "source": [
    "#### Propriedades\n",
    "\n",
    "##### Reflexiva\n",
    "P ⇒ P\n",
    "\n",
    "##### Transitiva\n",
    "Se P ⇒ Q e Q ⇒ R, então P ⇒ R"
   ]
  }
 ],
 "metadata": {
  "kernelspec": {
   "display_name": "Python 3",
   "language": "python",
   "name": "python3"
  },
  "language_info": {
   "codemirror_mode": {
    "name": "ipython",
    "version": 3
   },
   "file_extension": ".py",
   "mimetype": "text/x-python",
   "name": "python",
   "nbconvert_exporter": "python",
   "pygments_lexer": "ipython3",
   "version": "3.9.2"
  }
 },
 "nbformat": 4,
 "nbformat_minor": 5
}
