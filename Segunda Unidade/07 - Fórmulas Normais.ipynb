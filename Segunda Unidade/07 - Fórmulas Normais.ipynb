{
 "cells": [
  {
   "cell_type": "markdown",
   "id": "5aae3de6",
   "metadata": {},
   "source": [
    "# Fórmula Normal\n",
    "\n",
    "Fórmulas normais são fórmulas que contêm apenas negações, conjunções e disjunções. Faz sentido que utilizemos essas fórmulas quando estamos em um ambiente digital, pois se torna mais simples a construção de um harware ou de um software que trabalhe apenas com essas operações. \n",
    "\n",
    "À primeira vista, pode parecer que essa restrição implica em redução da capacidade de representação do que queremos, porém isso não ocorre pois o conjunto *(negação, conjunção, disjunção)* é um conjunto completo de instruções, isto é, qualquer fórmula da lógica proposicional pode ser representada utilizando essas 3 operações. Seria como, ao escrever um texto, abdicar da variedade de palavras e utilizar apenas um único sinônimo, o texto diminui sua complexidade, mas contém a mesma mensagem.\n",
    "\n"
   ]
  },
  {
   "cell_type": "markdown",
   "id": "eb80ae6e",
   "metadata": {},
   "source": [
    "## Definições\n",
    "\n",
    "### Literal\n",
    "\n",
    "Um literal é a unidade básica das fórmulas normais. Trata-se de um símbolo proposicional ou de sua negação. Exemplo: p, ~p, q.\n",
    "\n",
    "### Cláusula\n",
    "\n",
    "Uma cláusula é uma disjunção de literais.\n",
    "\n"
   ]
  },
  {
   "cell_type": "markdown",
   "id": "009c216b",
   "metadata": {},
   "source": [
    "## Tipos de Fórmulas Normais\n",
    "\n",
    "### Fórmula Normal Negativa\n",
    "\n",
    "Em uma fórmula normal negativa, não pode haver negação de cláusulas. Deve-se utilizar as leis de Morgan para repassar a negação aos literais.\n",
    "\n",
    "#### Exemplo\n",
    "\n",
    "Transformação de H em uma fórmula normal negativa.\n",
    "\n",
    "H = (p v q) -> (r ^ s)\n",
    "\n",
    "(p v q) -> (r ^ s) ⇔ **(p v q) -> (r ^ s)** *(Propriedade de Equivalência)*\n",
    "\n",
    "(p v q) -> (r ^ s) ⇔ **¬(p v q) v (r ^ s)** *(Remoção da Condicional)*\n",
    "\n",
    "Nesse momento, já chegamos a uma fórmula normal, porem como há negação de cláusula, devemos utilizar a Lei de Morgan para encontrar a fórmula normal negativa.\n",
    "\n",
    "(p v q) -> (r ^ s) ⇔ **(¬p ^ ¬q)** v (r ^ s) *(Lei de Morgan)*\n",
    "\n",
    "Agora temos uma fórmula normal na qual apenas os literais têm negações, ou seja, uma fórmula normal negativa.\n",
    "\n",
    "### Fórmula Normal Disjuntiva\n",
    "\n",
    "Uma fórmula normal disjuntiva ocorre quando só há disjunções de conjunções ou disjunções de literais. É usada, por exemplo, na otimização de linguagens de programação que, ao se depararem com uma condição FND, não precisam analisar toda a expressão caso encontrem um literal ou uma conjunção de literais que seja verdadeira.\n",
    "\n",
    "#### Exemplo\n",
    "\n",
    "Transformação de G em uma fórmula normal disjuntiva.\n",
    "\n",
    "H = p ^ q <-> r\n",
    "\n",
    "p ^ q <-> r ⇔ **p ^ q <-> r** *(Propriedade de Equivalência)*\n",
    "\n",
    "p ^ q <-> r ⇔ **(p ^ q -> r) ^ (r -> p ^ q)** *(Retirada da bi-implicação)*\n",
    "\n",
    "p ^ q <-> r ⇔ (**¬(p ^ q) v r**) ^ (**¬r v p ^ q**) *(Retirada da implicação)*\n",
    "\n",
    "p ^ q <-> r ⇔ (**¬p v ¬q** v r) ^ (¬r v p ^ q) *(Leis de Morgan)*\n",
    "\n",
    "Nesse momento temos uma fórmula normal, porém ela é uma conjunção de disjunções. Precisamos utilizar a propriedade distributiva para transformar a expressão que temos em uma disjunção de conjunções.\n",
    "\n",
    "p ^ q <-> r ⇔ (¬p v ¬q v r) ^ (**¬r ^ p v ¬r ^ q**) *(Propriedade Distributiva)*\n",
    "\n",
    "p ^ q <-> r ⇔ **(¬p ^ (¬r ^ p v ¬r ^ q)) v (¬q ^ (¬r ^ p v ¬r ^ q)) v (r ^ (¬r ^ p v ¬r ^ q))** *(Propriedade Distributiva)*\n",
    "\n",
    "Agora temos uma fórmula normal que é uma disjunção de conjunções.\n",
    "\n",
    "### Fórmula Normal Conjuntiva\n",
    "\n",
    "A fórmula normal conjuntiva ocorre quando só há conjunções de disjunções ou conjunções de literais. Assim como a FND, também é usada na otimização de linguagens de programação. Ao identificar uma, caso um literal ou conjunção de literais seja falso, o valor falso é atribuído diretamente à expressão sem necessidade de analisar o restante.\n",
    "\n",
    "#### Exemplo\n",
    "\n",
    "Transformação de J em uma fórmula normal disjuntiva.\n",
    "\n",
    "J = ((p ^ q) -> r) ^ s\n",
    "\n",
    "((p ^ q) -> r) ^ s ⇔ **((p ^ q) -> r) ^ s** *(Propriedade de Equivalência)*\n",
    "\n",
    "((p ^ q) -> r) ^ s ⇔ (**¬(p ^ q) v r**) ^ s *(Retirada da implicação)*\n",
    "\n",
    "((p ^ q) -> r) ^ s ⇔ (**¬p v ¬q** v r) ^ s *(Lei de Morgan)*\n",
    "\n",
    "Nesse momento, chegamos a uma fórmula normal conjuntiva, pois temos apenas conjunção de disjunções ou conjunções de literais."
   ]
  }
 ],
 "metadata": {
  "kernelspec": {
   "display_name": "Python 3",
   "language": "python",
   "name": "python3"
  },
  "language_info": {
   "codemirror_mode": {
    "name": "ipython",
    "version": 3
   },
   "file_extension": ".py",
   "mimetype": "text/x-python",
   "name": "python",
   "nbconvert_exporter": "python",
   "pygments_lexer": "ipython3",
   "version": "3.9.2"
  }
 },
 "nbformat": 4,
 "nbformat_minor": 5
}
