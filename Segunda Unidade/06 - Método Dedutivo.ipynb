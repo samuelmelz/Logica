{
 "cells": [
  {
   "cell_type": "markdown",
   "id": "c56a14b2",
   "metadata": {},
   "source": [
    "# Método Dedutivo\n",
    "\n",
    "Até o momento, tudo o que fizemos foi utilizando tabelas verdade e árvores semânticas. Embora úteis, esses métodos podem ser muito gráficos, repetitivos e tomar muito espaço. Caso queiramos provar a veracidade de um argumento, podemos utilizar as equivalências e implicações notáveis, que já conhecemos, para prová-las. Utilizando essas regras, podemos até mesmo gerar novas fórmulas, gerando assim, um novo conhecimento que não tínhamos antes.\n",
    "\n",
    "## Demonstração Direta\n",
    "\n",
    "A demonstração direta utiliza regras e equivalências para justificar a dedução. É base da demonstração por contraposição, que pode ser justificada pela demonstração direta.\n",
    "\n",
    "#### Demonstração do Modus Ponens:\n",
    "\n",
    "Modus Ponens: (p -> q) ^ p ⇒ q\n",
    "\n",
    "Premissa: (p -> q) ^ p\n",
    "\n",
    "(p -> q) ^ p ⇔ **(p -> q) ^ p**    *(Propriedade de Equivalência)*\n",
    "\n",
    "(p -> q) ^ p ⇔ **(~p v q)** ^ p    *(Remoção da Condicional)*\n",
    "\n",
    "(p -> q) ^ p ⇔ **(~p ^ p) v (p ^ q)**    *(Propriedade Distributiva)*\n",
    "\n",
    "(p -> q) ^ p ⇔ **c v (p ^ q)**    *(Contradição)*\n",
    "\n",
    "(p -> q) ^ p ⇔ **(c v p)** ^ **(c v q)**    *(Distributiva)*\n",
    "\n",
    "(p -> q) ^ p ⇔ **p ^ q**    *(Silogismo Disjuntivo)*\n",
    "\n",
    "**(p -> q) ^ p ⇔ q**    *(Simplificação)*\n",
    "\n",
    "(p -> q) ^ p ⇒ q \n",
    "\n"
   ]
  },
  {
   "cell_type": "markdown",
   "id": "46bc91a8",
   "metadata": {},
   "source": [
    "## Demonstração por Contraposição\n",
    "\n",
    "A contraposição é uma forma de demonstrar a validade de uma implicação a partir de outra. Pode ser usada diretamente, pois é algo conhecidamente já demonstrado.\n",
    "\n",
    "#### Demonstração\n",
    "\n",
    "Premissa: (p -> q)\n",
    "\n",
    "(p -> q) ⇔ **(~q -> ~p)** *(Contraposição)* "
   ]
  },
  {
   "cell_type": "markdown",
   "id": "d22fd113",
   "metadata": {},
   "source": [
    "## Demonstração por Absurdo\n",
    "\n",
    "A demonstração por absurdo se baseia nos princípios do terceiro excluído e da não contradição. Sabemos que algo só pode ser verdadeiro ou falso e que não pode ser verdadeiro e falso ao mesmo tempo, logo, se supusermos algo e provarmos que esta suposição gera uma contradição, automaticamente provamos que a negação da suposição é verdadeira. Pode ser usada para símbolos, para fórmulas e até mesmo fora da lógica proposicional.\n",
    "\n",
    "Passos da demonstração por absurdo: \n",
    "* 1 - Supôr a negação do que se quer demonstrar\n",
    "* 2 - Realizar deduções\n",
    "* 3 - Provar o absurdo(contradição) em todas as interpretações possíveis\n",
    "\n",
    "#### Demonstração\n",
    "\n",
    "Premissa: (p -> q) ^ (¬q ^ r) ⇒ ¬p\n",
    "\n",
    "Nesse caso, queremos provar que p é falso. Portanto, considere por absurdo que p seja verdadeiro. \n",
    "\n",
    "1 - (p -> q) ^ (¬q ^ r) ⇔ **(p -> q) ^ (¬q ^ r)** *(Propriedade de Equivalência)*\n",
    "\n",
    "2 - (p -> q) ^ (¬q ^ r) ⇔ **(¬q) ^ r** *(Simplificação)*\n",
    "\n",
    "3 - (p -> q) ^ (¬q ^ r) ⇔ **¬q** *(Simplificação)*\n",
    "\n",
    "4 - (p -> q) ^ (¬q ^ r) ⇔ **(p -> q) ^ (¬q ^ r)** *(Propriedade de Equivalência)*\n",
    "\n",
    "5 - (p -> q) ^ (¬q ^ r) ⇔ **(p -> q)** *(Simplificação)*\n",
    "\n",
    "6 - (p -> q) ^ (¬q ^ r) ⇔ **¬p** *(Modus Tollens)(Usando informação da linha 3)*\n",
    "\n",
    "Aqui podemos parar nossa análise, pois encontramos um absurdo. Supusemos que p é verdadeiro, porém encontramos que ¬p é verdadeiro, logo, temos uma nítida contradição."
   ]
  }
 ],
 "metadata": {
  "kernelspec": {
   "display_name": "Python 3",
   "language": "python",
   "name": "python3"
  },
  "language_info": {
   "codemirror_mode": {
    "name": "ipython",
    "version": 3
   },
   "file_extension": ".py",
   "mimetype": "text/x-python",
   "name": "python",
   "nbconvert_exporter": "python",
   "pygments_lexer": "ipython3",
   "version": "3.9.2"
  }
 },
 "nbformat": 4,
 "nbformat_minor": 5
}
