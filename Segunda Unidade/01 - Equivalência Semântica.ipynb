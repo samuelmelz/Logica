{
 "cells": [
  {
   "cell_type": "markdown",
   "id": "844f44cd",
   "metadata": {},
   "source": [
    "# Equivalência semântica\n",
    "Ao ouvir falar de equivalência semântica, temos uma ideia de algo com mesmo significado de outra coisa. Nesta unidade, a equivalência semântica é exatamente isso, porém aplicada a duas fórmulas lógicas.\n",
    "\n",
    "Dizemos que duas fórmulas são semânticamente equivalentes se os valores lógicos das duas proposições são iguais(ambos V ou ambos F), para qualquer interpretação possível.\n",
    "\n",
    "Aplicando o conhecimento que temos, até o momento, da lógica proposicional, podemos encarar essa necessidade de que os valores sejam iguais, como uma bi-implicação. Dessa forma, definimos que duas fórmulas são semanticamente equivalentes se a bi-implicação entre elas for uma tautologia.\n",
    "\n",
    "Para representar esta relação entre fórmulas, usa-se o símbolo ⇔ ou ≡. O símbolo <-> é usado para indicar uma operação lógica.\n",
    "\n",
    "#### Exemplo: \n",
    "H = p ^ q\n",
    "\n",
    "G = p v r\n",
    "\n",
    "Se H <-> G é uma tautologia, estas fórmulas são equivalentes.\n",
    "\n",
    "Se H <-> G não é uma tautologia, estas fórmulas não são equivalentes."
   ]
  },
  {
   "cell_type": "code",
   "execution_count": 41,
   "id": "2ff744cc",
   "metadata": {},
   "outputs": [
    {
     "name": "stdout",
     "output_type": "stream",
     "text": [
      "+-------+-------+----------+-----------+--------------------------+\n",
      "|   p   |   q   |  p => q  |  -p or q  |  (p => q) = ((-p) or q)  |\n",
      "|-------+-------+----------+-----------+--------------------------|\n",
      "| True  | True  |   True   |   True    |           True           |\n",
      "| True  | False |  False   |   False   |           True           |\n",
      "| False | True  |   True   |   True    |           True           |\n",
      "| False | False |   True   |   True    |           True           |\n",
      "+-------+-------+----------+-----------+--------------------------+\n",
      "\n",
      "As proposições são semanticamente equivalentes\n"
     ]
    }
   ],
   "source": [
    "import ttg\n",
    "\n",
    "table=(ttg.Truths([\"p\", \"q\"], ['p => q', '-p or q', '(p => q) = ((-p) or q)'], ints=False))\n",
    "print(table)\n",
    "if(table.valuation()==\"Tautology\"):\n",
    "    print(\"\\nAs proposições são semanticamente equivalentes\")\n",
    "else:\n",
    "    print(\"\\nAs proposições não são semanticamente equivalentes\")"
   ]
  },
  {
   "cell_type": "markdown",
   "id": "e7c01260",
   "metadata": {},
   "source": [
    "#### Propriedades\n",
    "\n",
    "##### Reflexiva\n",
    "P ⇔ P\n",
    "\n",
    "##### Simétrica\n",
    "Se P ⇔ Q, então Q ⇔ P\n",
    "\n",
    "##### Transitiva\n",
    "Se P ⇔ Q e Q ⇔ R, então P ⇔ R"
   ]
  }
 ],
 "metadata": {
  "kernelspec": {
   "display_name": "Python 3",
   "language": "python",
   "name": "python3"
  },
  "language_info": {
   "codemirror_mode": {
    "name": "ipython",
    "version": 3
   },
   "file_extension": ".py",
   "mimetype": "text/x-python",
   "name": "python",
   "nbconvert_exporter": "python",
   "pygments_lexer": "ipython3",
   "version": "3.9.2"
  }
 },
 "nbformat": 4,
 "nbformat_minor": 5
}
