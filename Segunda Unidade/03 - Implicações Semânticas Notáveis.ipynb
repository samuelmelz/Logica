{
 "cells": [
  {
   "cell_type": "markdown",
   "id": "81931ea2",
   "metadata": {},
   "source": [
    "# Implicações semânticas notáveis\n",
    "\n",
    "Como vimos anteriormente, em uma implicação semântica, nos importa analisar apenas quando a fórmula-condição é verdadeira. Portanto, consideramos inicialmente que as implicações semânticas abaixo são verdadeiras.\n",
    "\n",
    "\n"
   ]
  },
  {
   "cell_type": "markdown",
   "id": "b4c5833a",
   "metadata": {},
   "source": [
    "### Adição\n",
    "\n",
    "p ⇒ p v q\n",
    "\n",
    "Sendo **p** verdadeiro, precisamos que o resultado da fórmula sequente também seja verdadeiro. Ao realizarmos a operação lógica **p v q**, mantemos o valor verdadeiro, não importando o valor de **q**, pois pelo menos um dos lados da disjunção será sempre verdadeiro.\n",
    "\n",
    "Exemplo:\n",
    "\n",
    "**p** = 7 é menor que 8. - **Verdadeiro**\n",
    "\n",
    "**q** = É meio-dia. - **Pode ser verdadeiro ou falso**\n",
    "\n",
    "**p v q** = 7 é menor que 8 ou é meio dia. - **Verdadeiro**\n"
   ]
  },
  {
   "cell_type": "markdown",
   "id": "ecc4eebe",
   "metadata": {},
   "source": [
    "### Simplificação\n",
    "\n",
    "p ^ q ⇒ p\n",
    "\n",
    "p ^ q ⇒ q\n",
    "\n",
    "Numa conjunção, sabemos que o resultado verdadeiro ocorre apenas quando os dois valores forem verdadeiros. Dessa forma, se **p ^ q** é verdadeiro, podemos garantir que **p** isoladamente também deve ser verdadeiro e que **q** isoladamente também deve ser verdadeiro.\n",
    "\n",
    "Exemplo:\n",
    "\n",
    "**p ^ q** = 7 é menor que 8 e é meio-dia - **Verdadeiro**\n",
    "\n",
    "**p** = 7 é menor que 8 - **Verdadeiro**\n",
    "\n",
    "**q** = É meio-dia - **Verdadeiro**"
   ]
  },
  {
   "cell_type": "markdown",
   "id": "ae708bc8",
   "metadata": {},
   "source": [
    "### Modus Ponens\n",
    "\n",
    "(p -> q) ^ p ⇒ q\n",
    "\n",
    "Sabemos que o único caso falso de uma implicação é quando a condição é verdadeira e a consequência falsa. Portanto, se sabemos que a condição da implicação é verdadeira, podemos deduzir que a consequência é verdadeira, pois do contrário a implicação semântica seria falsa.\n",
    "\n",
    "Exemplo:\n",
    "\n",
    "**(p -> q) ^ p** = Se hoje faz sol, então amanhã chove. Hoje faz sol - **Verdadeiro**\n",
    "\n",
    "**q** = Amanhã chove - **Verdadeiro**"
   ]
  },
  {
   "cell_type": "markdown",
   "id": "4576e9bc",
   "metadata": {},
   "source": [
    "### Modus Tolens\n",
    "\n",
    "(p -> q) ^ ~q ⇒ ~p\n",
    "\n",
    "Novamente temos uma implicação, porém dessa vez temos que a negação da consequência é verdadeira. Logo, a consequência é falsa. Para manter a implicação semântica verdadeira, a condição da implicação também deve ser falsa, do contrário teríamos o caso V -> F = F\n",
    "\n",
    "\n",
    "Exemplo:\n",
    "\n",
    "**(p -> q) ^ ~q** = Se hoje faz sol, então amanhã chove. Amanhã não chove - **Verdadeiro**\n",
    "\n",
    "**p** = Hoje faz sol - **Falso**"
   ]
  },
  {
   "cell_type": "markdown",
   "id": "ae6fdb81",
   "metadata": {},
   "source": [
    "### Silogismo Disjuntivo\n",
    "\n",
    "(p v q) ^ ~p ⇒ q\n",
    "\n",
    "(p v q) ^ ~q ⇒ p\n",
    "\n",
    "Sabemos que para uma disjunção ser verdadeira, precisamos que pelo menos um dos lados da conjunção seja verdadeiro. Portanto, se já sabemos que um dos lados é falso, necessariamente precisamos que o outro lado seja verdadeiro. \n",
    "\n",
    "Exemplo:\n",
    "\n",
    "**(p v q) ^ ~p** = A semana tem 7 dias ou o mês tem 30 dias. A semana não tem 7 dias - **Verdadeiro**\n",
    "\n",
    "**q** = O mês tem 30 dias - **Verdadeiro**"
   ]
  },
  {
   "cell_type": "markdown",
   "id": "8db47c47",
   "metadata": {},
   "source": [
    "### Silogismo Hipotético\n",
    "\n",
    "(p -> q) ^ (q -> r) ⇒ p -> r\n",
    "\n",
    "Este caso é derivado diretamente da propriedade transitiva vista na unidade de Implicação Semântica.\n",
    "\n",
    "Exemplo:\n",
    "\n",
    "**(p -> q) ^ (q -> r)** = Se há 5 cores, então há 5 nomes. Se há 5 nomes, então há 25 letras - **Verdadeiro**\n",
    "\n",
    "**(p -> r)** = Se há 5 cores, então há 25 letras - **Verdadeiro**"
   ]
  }
 ],
 "metadata": {
  "kernelspec": {
   "display_name": "Python 3",
   "language": "python",
   "name": "python3"
  },
  "language_info": {
   "codemirror_mode": {
    "name": "ipython",
    "version": 3
   },
   "file_extension": ".py",
   "mimetype": "text/x-python",
   "name": "python",
   "nbconvert_exporter": "python",
   "pygments_lexer": "ipython3",
   "version": "3.9.2"
  }
 },
 "nbformat": 4,
 "nbformat_minor": 5
}
