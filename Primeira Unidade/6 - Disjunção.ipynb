{
 "cells": [
  {
   "cell_type": "markdown",
   "id": "3ec67f25",
   "metadata": {},
   "source": [
    "# Disjunção\n",
    "\n",
    "A disjunção é a operação lógica caracterizada pela conjunção \"ou\", representada por \" v \". Na disjunção, para que a proposição composta seja verdadeira, necessitamos que pelo menos uma das duas proposições simples sejam verdadeiras. Podemos interpretar essa operação como a união entre duas condições.\n",
    "\n",
    "#### Exemplo:\n",
    "\n",
    "p = \"Derrubei uma parede\"\n",
    "\n",
    "q = \"Não derrubei uma parede\"\n",
    "\n",
    "p v q = \"Derrubei uma parede ou não derrubei uma parede\"\n",
    "\n"
   ]
  },
  {
   "cell_type": "markdown",
   "id": "c5afed6f",
   "metadata": {},
   "source": [
    "Perceba que mesmo que, necessariamente, uma das duas proposições seja falsa, a expressão resultante é verdadeira, pois pelo menos uma das duas proposições simples é verdadeira.\n",
    "\n",
    "#### Tabela Verdade"
   ]
  },
  {
   "cell_type": "code",
   "execution_count": 3,
   "id": "163f341d",
   "metadata": {},
   "outputs": [
    {
     "name": "stdout",
     "output_type": "stream",
     "text": [
      "+-------+-------+----------+\n",
      "|   p   |   q   |  p or q  |\n",
      "|-------+-------+----------|\n",
      "| True  | True  |   True   |\n",
      "| True  | False |   True   |\n",
      "| False | True  |   True   |\n",
      "| False | False |  False   |\n",
      "+-------+-------+----------+\n"
     ]
    }
   ],
   "source": [
    "import ttg\n",
    "\n",
    "print(ttg.Truths([\"p\", \"q\"], [\"p or q\"], ints=False))"
   ]
  },
  {
   "cell_type": "markdown",
   "id": "4e88e353",
   "metadata": {},
   "source": [
    "#### Propriedades:\n",
    "V(p v q) = V(p) v V(q)\n",
    "\n",
    "V(p) v V(q) = V(q) v V(p)"
   ]
  }
 ],
 "metadata": {
  "kernelspec": {
   "display_name": "Python 3",
   "language": "python",
   "name": "python3"
  },
  "language_info": {
   "codemirror_mode": {
    "name": "ipython",
    "version": 3
   },
   "file_extension": ".py",
   "mimetype": "text/x-python",
   "name": "python",
   "nbconvert_exporter": "python",
   "pygments_lexer": "ipython3",
   "version": "3.9.2"
  }
 },
 "nbformat": 4,
 "nbformat_minor": 5
}
