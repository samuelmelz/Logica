{
 "cells": [
  {
   "cell_type": "markdown",
   "id": "2cea2df1",
   "metadata": {},
   "source": [
    "# Implicação\n",
    "\n",
    "A implicação é a operação lógica caracterizada pela dupla \"se... então\", representada por \" -> \". Na implicação, para que a proposição composta seja verdadeira, necessitamos que a primeira proposição(hipótese) seja falsa **ou** que seja verdadeira **e** a segunda(consequência) também seja verdadeira. Isso quer dizer que se soubermos que a hipótese é falsa, não importa o valor lógico da consequência, porém se a hipótese for verdadeira, precisamos saber o valor lógico da consequência. \n",
    "É importante notar que a consequência não precisa ser derivada da hipótese, ou seja, as duas coisas podem não ter nenhuma relação entre si, pois aqui nos importamos apenas com a satisfação ou não da tabela verdade.\n",
    "\n",
    "#### Exemplo:\n",
    "\n",
    "p = \"Passar em lógica\"\n",
    "\n",
    "q = \"Cursarei circuitos lógicos\"\n",
    "\n",
    "p -> q = \"Se passar em lógica, então cursarei circuitos lógicos\"\n",
    "\n"
   ]
  },
  {
   "cell_type": "markdown",
   "id": "1764de33",
   "metadata": {},
   "source": [
    "O único caso em que a expressão resultante será falsa é caso passe em lógica, mas não curse circuitos lógicos. Será verdade mesmo que curse circuitos lógicos e não passe em lógica.\n",
    "\n",
    "#### Tabela Verdade"
   ]
  },
  {
   "cell_type": "code",
   "execution_count": 1,
   "id": "69c1f011",
   "metadata": {},
   "outputs": [
    {
     "name": "stdout",
     "output_type": "stream",
     "text": [
      "+-------+-------+----------+\n",
      "|   p   |   q   |  p => q  |\n",
      "|-------+-------+----------|\n",
      "| True  | True  |   True   |\n",
      "| True  | False |  False   |\n",
      "| False | True  |   True   |\n",
      "| False | False |   True   |\n",
      "+-------+-------+----------+\n"
     ]
    }
   ],
   "source": [
    "import ttg\n",
    "\n",
    "print(ttg.Truths([\"p\", \"q\"], [\"p => q\"], ints=False))"
   ]
  },
  {
   "cell_type": "markdown",
   "id": "5f487cfa",
   "metadata": {},
   "source": [
    "#### Propriedade:\n",
    "V(p -> q) = V(p) -> V(q)"
   ]
  },
  {
   "cell_type": "code",
   "execution_count": null,
   "id": "8e777389",
   "metadata": {},
   "outputs": [],
   "source": []
  }
 ],
 "metadata": {
  "kernelspec": {
   "display_name": "Python 3",
   "language": "python",
   "name": "python3"
  },
  "language_info": {
   "codemirror_mode": {
    "name": "ipython",
    "version": 3
   },
   "file_extension": ".py",
   "mimetype": "text/x-python",
   "name": "python",
   "nbconvert_exporter": "python",
   "pygments_lexer": "ipython3",
   "version": "3.9.2"
  }
 },
 "nbformat": 4,
 "nbformat_minor": 5
}
