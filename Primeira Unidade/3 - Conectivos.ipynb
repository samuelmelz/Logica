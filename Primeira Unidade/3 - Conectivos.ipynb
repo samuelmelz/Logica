{
 "cells": [
  {
   "cell_type": "markdown",
   "id": "0a77534e",
   "metadata": {},
   "source": [
    "# Conectivos\n",
    "\n",
    "Perceba que nos exemplos usados como proposições compostas no caderno \"Definições\", sempre há uma conjunção que une as duas orações. Os conectivos, em lógica, são essas conjunções, que expressam uma ideia entre as duas proposições.\n",
    "\n",
    "### Conectivos principais\n",
    "\n",
    "Existem cinco conectivos principais, que expressam 5 possibilidades de relação entre as proposições, tambéem chamadas de operações lógicas.\n",
    "* Não - Negação\n",
    "* E - Conjunção\n",
    "* Ou - Disjunção\n",
    "* Se... então - Implicação\n",
    "* Se, e somente se - Bi-implicação\n",
    "\n",
    "Embora, esses sejam os conectivos principais, há outros que também podem ser usados e trazem a mesma ideia, portanto sempre leia a proposição e tente encaixar em um desses casos.\n",
    "A ordem dos conectivos acima não foi escolhida ao acaso: esta é a ordem de precedência entre os conectivos. Da forma que foi disposta, um conectivo mais acima sempre terá precedência sobre um conectivo mais abaixo, então tente lembrar nessa sequência.\n",
    "\n",
    "### Símbolos\n",
    "\n",
    "Se podemos representar proposições como simples letras, faz sentido que haja uma forma menor de representar esses conectivos, e há:\n",
    "* ¬ - Negação\n",
    "* ^ - Conjunção\n",
    "* v - Disjunção\n",
    "* -> - Implicação\n",
    "* <-> - Bi-implicação\n",
    "\n",
    "### Exemplos\n",
    "p=\"Sou um texto\"\n",
    "\n",
    "q=\"Sou lido\"\n",
    "* ¬p = Não sou um texto\n",
    "* p^q = Sou um texto e sou lido\n",
    "* pvq = Sou um texto ou sou lido\n",
    "* p->q = Se sou um texto, então sou lido\n",
    "* p<->q = Sou um texto se, e somente se, sou lido\n",
    "\n",
    "### Tabela Verdade\n",
    "Sabendo que podemos criar proposições compostas com o uso de conectivos, precisamos saber qual o valor lógico dessas proposições. Nas proposições simples, o valor lógico sempre era verdadeiro ou falso, mas nas proposições compostas, esse valor lógico depende do valor lógico das proposições simples que as compõem, além do conectivo escolhido. Isso será explicado com mais detalhes no caderno específico de cada operação lógica.\n",
    "É importante, também, saber que uma tabela verdade tem 2^n linhas, onde n é o número de proposições simples que compõem a proposição composta."
   ]
  },
  {
   "cell_type": "code",
   "execution_count": null,
   "id": "dfffe63a",
   "metadata": {},
   "outputs": [],
   "source": []
  },
  {
   "cell_type": "code",
   "execution_count": null,
   "id": "6e2a62d4",
   "metadata": {},
   "outputs": [],
   "source": []
  }
 ],
 "metadata": {
  "kernelspec": {
   "display_name": "Python 3",
   "language": "python",
   "name": "python3"
  },
  "language_info": {
   "codemirror_mode": {
    "name": "ipython",
    "version": 3
   },
   "file_extension": ".py",
   "mimetype": "text/x-python",
   "name": "python",
   "nbconvert_exporter": "python",
   "pygments_lexer": "ipython3",
   "version": "3.9.2"
  }
 },
 "nbformat": 4,
 "nbformat_minor": 5
}
