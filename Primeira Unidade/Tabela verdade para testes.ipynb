{
 "cells": [
  {
   "cell_type": "markdown",
   "id": "9856f2cd",
   "metadata": {},
   "source": [
    "# Tabela Verdade\n",
    "\n",
    "Abaixo há a implementação de um programa que cria a tabela verdade para até 4 radicais."
   ]
  },
  {
   "cell_type": "code",
   "execution_count": null,
   "id": "0f2c2cb1",
   "metadata": {},
   "outputs": [],
   "source": [
    "import ttg\n",
    "\n",
    "print('Conjuncao -> and\\nDisjuncao -> or\\nImplicacao -> =>\\nBi-implicacao -> =\\nNegacao -> -\\nParenteses -> (  )')\n",
    "\n",
    "while True:\n",
    "\tnumProp = int(input(\"\\nNumero de proposicoes: \"))\n",
    "\tp=str(input(\"Digite o radical 1: \"))\n",
    "\tif numProp>=2:\n",
    "\t\tq=str(input(\"Digite o radical 2: \"))\n",
    "\tif numProp>=3:\n",
    "\t\tr=str(input(\"Digite o radical 3: \"))\n",
    "\tif numProp>=4:\n",
    "\t\ts=str(input(\"Digite o radical 4: \"))\n",
    "\n",
    "\tif numProp==1:\n",
    "\t\ttable=(ttg.Truths([p], [input(\"\\nDigite a sentenca: \")], ints=False))\n",
    "\telif numProp==2:\n",
    "\t\ttable=(ttg.Truths([p, q], [input(\"\\nDigite a sentenca: \")], ints=False))\n",
    "\telif numProp==3:\n",
    "\t\ttable=(ttg.Truths([p, q, r], [input(\"\\nDigite a sentenca: \")], ints=False))\n",
    "\telif numProp==4:\n",
    "\t\ttable=(ttg.Truths([p, q, r, s], [input(\"\\nDigite a sentenca: \")], ints=False))\n",
    "\t\n",
    "\tprint(table)\n",
    "\tprint(\"Esta expressao e uma \" + table.valuation())\n"
   ]
  },
  {
   "cell_type": "code",
   "execution_count": null,
   "id": "85ded853",
   "metadata": {},
   "outputs": [],
   "source": []
  },
  {
   "cell_type": "code",
   "execution_count": null,
   "id": "23bc739a",
   "metadata": {},
   "outputs": [],
   "source": []
  },
  {
   "cell_type": "code",
   "execution_count": null,
   "id": "3db0cca3",
   "metadata": {},
   "outputs": [],
   "source": []
  }
 ],
 "metadata": {
  "kernelspec": {
   "display_name": "Python 3",
   "language": "python",
   "name": "python3"
  },
  "language_info": {
   "codemirror_mode": {
    "name": "ipython",
    "version": 3
   },
   "file_extension": ".py",
   "mimetype": "text/x-python",
   "name": "python",
   "nbconvert_exporter": "python",
   "pygments_lexer": "ipython3",
   "version": "3.9.2"
  }
 },
 "nbformat": 4,
 "nbformat_minor": 5
}
