{
 "cells": [
  {
   "cell_type": "markdown",
   "id": "dc1940b1",
   "metadata": {},
   "source": [
    "# Bi-implicação \n",
    "\n",
    "Bi-implicação ou bicondicional é a operação de menor precedência, que surge da conjunção de duas implicações. Caracterizada pela expressão \"se, e somente se\", a bi-implicação indica que a hipótese implica na consequência e que a consequência implica na hipótese. Aqui, diferentemente da implicação, se uma proposição é verdadeira, a outra também precisa ser verdadeira e se uma for falsa, a outra também precisa ser falsa. Do contrário a proposição composta será falsa. É representada por \"<->\".\n",
    "\n",
    "#### Exemplo: \n",
    "\n",
    "p = \"Vendi uma geladeira\"\n",
    "q = \"Recebi dinheiro\"\n",
    "\n",
    "p <-> q = \"Vendi uma geladeira se, e somente se, recebi dinheiro."
   ]
  },
  {
   "cell_type": "markdown",
   "id": "7843ab72",
   "metadata": {},
   "source": [
    "Nesse caso podemos dividir a proposição composta em duas:\n",
    "* Se vendi uma geladeira, então recebi dinheiro\n",
    "* Se recebi dinheiro, então vendi uma geladeira\n",
    "\n",
    "Para satisfazer a bi-implicação, temos que satisfazer essas duas implicações ao mesmo tempo, o que só é possível se os dois valores lógicos forem iguais, senão em uma das duas proposições teremos V -> F, tornando toda a proposição falsa."
   ]
  },
  {
   "cell_type": "code",
   "execution_count": 2,
   "id": "2ea530a9",
   "metadata": {},
   "outputs": [
    {
     "name": "stdout",
     "output_type": "stream",
     "text": [
      "+-------+-------+---------+\n",
      "|   p   |   q   |  p = q  |\n",
      "|-------+-------+---------|\n",
      "| True  | True  |  True   |\n",
      "| True  | False |  False  |\n",
      "| False | True  |  False  |\n",
      "| False | False |  True   |\n",
      "+-------+-------+---------+\n"
     ]
    }
   ],
   "source": [
    "import ttg\n",
    "\n",
    "print(ttg.Truths([\"p\", \"q\"], [\"p = q\"], ints=False))"
   ]
  },
  {
   "cell_type": "markdown",
   "id": "3ee15890",
   "metadata": {},
   "source": [
    "#### Propriedade:\n",
    "\n",
    "V(p -> q) = V(p) -> V(q)"
   ]
  }
 ],
 "metadata": {
  "kernelspec": {
   "display_name": "Python 3",
   "language": "python",
   "name": "python3"
  },
  "language_info": {
   "codemirror_mode": {
    "name": "ipython",
    "version": 3
   },
   "file_extension": ".py",
   "mimetype": "text/x-python",
   "name": "python",
   "nbconvert_exporter": "python",
   "pygments_lexer": "ipython3",
   "version": "3.9.2"
  }
 },
 "nbformat": 4,
 "nbformat_minor": 5
}
