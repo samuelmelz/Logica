{
 "cells": [
  {
   "cell_type": "markdown",
   "id": "d0f622d1",
   "metadata": {},
   "source": [
    "# Negação\n",
    "A operação lógica de negação serve para inverter o valor lógico - se antes era falso passará a ser verdadeiro, mas se antes era verdadeiro, passará a ser falso.\n",
    "A negação é a única operação lógica unária, ou seja, é usada em apenas uma proposição.\n",
    "\n",
    "\n",
    "\n",
    "#### Exemplo: \n",
    "p = \"As paredes balançam\"\n",
    "\n",
    "q = \"A porta não bate\"\n",
    "\n",
    "¬p=\"As paredes não balançam\"\n",
    "\n",
    "¬q=\"A porta bate\"\n",
    "\n",
    "\n",
    "\n",
    "\n"
   ]
  },
  {
   "cell_type": "markdown",
   "id": "7c14fde5",
   "metadata": {},
   "source": [
    "É importante lembrar que não basta criar uma frase com adjetivos antônimos para que façamos a negação. \"Mateus é alto\" não é a negação de \"Mateus é baixo\", pois dessa forma perdemos a possibilidade de que ele tenha uma altura média, ou seja, não seja nem baixo nem alto.\n",
    "\n",
    "#### Tabela Verdade\n"
   ]
  },
  {
   "cell_type": "code",
   "execution_count": 2,
   "id": "62b21f6a",
   "metadata": {},
   "outputs": [
    {
     "name": "stdout",
     "output_type": "stream",
     "text": [
      "+-------+-------+\n",
      "|   p   |  -p   |\n",
      "|-------+-------|\n",
      "| True  | False |\n",
      "| False | True  |\n",
      "+-------+-------+\n"
     ]
    }
   ],
   "source": [
    "import ttg\n",
    "\n",
    "print(ttg.Truths([\"p\"], [\"-p\"], ints=False))\n"
   ]
  },
  {
   "cell_type": "markdown",
   "id": "684706c3",
   "metadata": {},
   "source": [
    "#### Propriedade:\n",
    "\n",
    "V(¬p) = ¬V(p)"
   ]
  }
 ],
 "metadata": {
  "kernelspec": {
   "display_name": "Python 3",
   "language": "python",
   "name": "python3"
  },
  "language_info": {
   "codemirror_mode": {
    "name": "ipython",
    "version": 3
   },
   "file_extension": ".py",
   "mimetype": "text/x-python",
   "name": "python",
   "nbconvert_exporter": "python",
   "pygments_lexer": "ipython3",
   "version": "3.9.2"
  }
 },
 "nbformat": 4,
 "nbformat_minor": 5
}
