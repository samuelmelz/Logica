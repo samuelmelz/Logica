{
 "cells": [
  {
   "cell_type": "markdown",
   "id": "22cb5c26",
   "metadata": {},
   "source": [
    "# Premissas"
   ]
  },
  {
   "cell_type": "markdown",
   "id": "616cc6de",
   "metadata": {},
   "source": [
    "Expressões necessariamente verdadeiras."
   ]
  },
  {
   "cell_type": "markdown",
   "id": "fef30d96",
   "metadata": {},
   "source": [
    "# Argumentos\n"
   ]
  },
  {
   "cell_type": "markdown",
   "id": "f56d87e0",
   "metadata": {},
   "source": [
    "Um argumento é baseado em um conjunto de premissas que geram uma conclusão necessariamente verdadeira. \n",
    "\n",
    "#### Exemplo: \n",
    "\n",
    "Premissa:\n",
    "* Todo homem é mortal\n",
    "* Sócrates é homem\n",
    "\n",
    "Conclusão: \n",
    "* Sócrates é mortal"
   ]
  },
  {
   "cell_type": "markdown",
   "id": "4dff79ae",
   "metadata": {},
   "source": [
    "Perceba que a premissa de algo ser mortal engloba todos os homens existentes. Portanto, ao afirmar que Socrátes é homem, este também está necessariamente sujeito a ser mortal."
   ]
  },
  {
   "cell_type": "markdown",
   "id": "41bbe5ec",
   "metadata": {},
   "source": [
    "## Argumentos Dedutivos"
   ]
  },
  {
   "cell_type": "markdown",
   "id": "09574f74",
   "metadata": {},
   "source": [
    "A conclusão é derivada necessariamente das premissas.\n",
    "\n",
    "Exemplo: "
   ]
  },
  {
   "cell_type": "markdown",
   "id": "1e2da9f3",
   "metadata": {},
   "source": [
    "Todas as pessoas têm um nariz.\n",
    "\n",
    "Luíza é uma pessoa.\n",
    "\n",
    "Luíza tem um nariz."
   ]
  },
  {
   "cell_type": "markdown",
   "id": "4e47a29a",
   "metadata": {},
   "source": [
    "Assim como no exemplo anterior, todas as pessoas têm uma característica - ter nariz - e por ser uma pessoa, Luíza também tem essa característica."
   ]
  },
  {
   "cell_type": "markdown",
   "id": "f6f871b5",
   "metadata": {},
   "source": [
    "## Argumentos Indutivos"
   ]
  },
  {
   "cell_type": "markdown",
   "id": "d654ff0b",
   "metadata": {},
   "source": [
    "A conclusão não é derivada necessariamente das premissas. \n",
    "\n",
    "Exemplo: "
   ]
  },
  {
   "cell_type": "markdown",
   "id": "02dd19e5",
   "metadata": {},
   "source": [
    "Ontem havia nuvens no céu e choveu.\n",
    "\n",
    "Hoje há nuvens no céu.\n",
    "\n",
    "Hoje choverá."
   ]
  },
  {
   "cell_type": "markdown",
   "id": "e7c4e876",
   "metadata": {},
   "source": [
    "Perceba que, nesse caso, não podemos dizer que porque em um dia houve nuvens e choveu, que será sempre assim. Temos que recorrer a uma ideia fora das premissas - \"Sempre que há nuvens no céu, chove.\""
   ]
  },
  {
   "cell_type": "markdown",
   "id": "2b5ae7cf",
   "metadata": {},
   "source": [
    "## Validade de Argumentos"
   ]
  },
  {
   "cell_type": "markdown",
   "id": "bfa22ab7",
   "metadata": {},
   "source": [
    "Se um argumento é válido, suas premissas devem ser provas suficientes para assegurar a veracidade da conclusão. \n",
    "Perceba que aqui tratamos da forma do argumento, nunca de sua conclusão. Se a premissa de um argumento diz \"Todas as tintas verdes são azuis\", de nada nos interessa saber se o conteúdo é verdadeiro, mas se a conclusão pode ser sustentada pelas premissas. \n",
    "\n",
    "Exemplo:\n",
    "\n",
    "### Argumento válido:\n",
    "\n",
    "Premissas:\n",
    "\n",
    "* Todas as tintas verdes são azuis\n",
    "* Todas as tintas azuis são pretas\n",
    "\n",
    "Conclusão:\n",
    "\n",
    "* Todas as tintas verdes são pretas\n",
    "\n",
    "Embora no nosso mundo nenhuma dessas afirmações seja verdadeira, para a lógica proposicional isto é um argumento válido, pois aqui buscamos analisar apenas a estrutura argumentativa. \n",
    "\n",
    "### Argumento inválido\n",
    "\n",
    "Premissas:\n",
    "\n",
    "* Se um carro acelera, sua velocidade aumenta\n",
    "* O carro acelerou\n",
    "\n",
    "Conclusão:\n",
    "\n",
    "* Sua velocidade se manteve constante\n",
    "\n",
    "Nesse caso, temos um argumento inválido, pois acelerar deveria, necessariamente, aumentar a velocidade do carro, mas não foi isso que ocorreu."
   ]
  },
  {
   "cell_type": "markdown",
   "id": "b340608d",
   "metadata": {},
   "source": [
    "# Proposições"
   ]
  },
  {
   "cell_type": "markdown",
   "id": "fe0af7e7",
   "metadata": {},
   "source": [
    "Proposições são afirmativas às quais podemos atribuir um valor lógico - Verdadeiro ou Falso. São expressas, normalmente, pelo uso de verbos flexionados - orações.\n",
    "\n",
    "Exemplo:\n"
   ]
  },
  {
   "cell_type": "markdown",
   "id": "d705003e",
   "metadata": {},
   "source": [
    "São proposições\n",
    "* Isto é uma casa\n",
    "* Eu sei disso\n",
    "* Encontrei sua carteira"
   ]
  },
  {
   "cell_type": "markdown",
   "id": "1ab8b638",
   "metadata": {},
   "source": [
    "Não são proposições:\n",
    "* Você soube o que aconteceu?\n",
    "* x + 2 = 7\n",
    "* Procure sua carteira.\n",
    "\n",
    "Como podemos perceber, não são proposições: frases imperativas, interrogativas, exclamativas, que faltem algum termo para assegurar a veracidade etc."
   ]
  },
  {
   "cell_type": "markdown",
   "id": "7f7b687d",
   "metadata": {},
   "source": [
    "## Proposição Simples\n",
    "Aquela que não contém nenhuma outra proposição dentro de si. É um conjunto de palavras ou símbolos, que exprimem um pensamento de sentido completo.\n",
    "Exemplo:\n",
    "* O céu é preto\n",
    "* Conheci um céu preto\n",
    "* O relógio quebrou\n",
    "\n",
    "## Proposição Composta\n",
    "Aquela que é formada pela combinação de 2 ou mais proposição simples.\n",
    "Exemplo:\n",
    "* A semana tem 7 dias e o dia tem 24 horas\n",
    "* Uma pessoa é alta, mas é menor que uma ainda mais alta\n",
    "* Encontrei você semana passada e por isso minha casa explodiu\n",
    "\n",
    "Aqui é necessário ter certa atenção, pois o sujeito da proposição pode ser composto sem que a proposição seja composta. \n",
    "Exemplo: \n",
    "* Elaine e Brendo são alunos do CI\n",
    "\n",
    "Embora haja mais de um sujeito, essa frase tem apenas uma oração"
   ]
  }
 ],
 "metadata": {
  "kernelspec": {
   "display_name": "Python 3",
   "language": "python",
   "name": "python3"
  },
  "language_info": {
   "codemirror_mode": {
    "name": "ipython",
    "version": 3
   },
   "file_extension": ".py",
   "mimetype": "text/x-python",
   "name": "python",
   "nbconvert_exporter": "python",
   "pygments_lexer": "ipython3",
   "version": "3.9.2"
  }
 },
 "nbformat": 4,
 "nbformat_minor": 5
}
