{
 "cells": [
  {
   "cell_type": "markdown",
   "id": "d7946395",
   "metadata": {},
   "source": [
    "# Princípios\n",
    "\n",
    "Existem três princípios da lógica, são eles: princípio da identidade, princípio da não contradição e princípio do terceiro excluído.\n",
    "\n",
    "### Princípio da identidade\n",
    "Toda proposição é, necessariamente, idêntica a si mesma.\n",
    "\n",
    "### Princípio da não contradição\n",
    "Nada pode ser, ao mesmo tempo, verdadeiro e falso.\n",
    "\n",
    "### Princípio do terceiro excluído\n",
    "Uma proposição é sempre verdadeira ou falsa. Não há a possibilidade de uma terceira opção."
   ]
  }
 ],
 "metadata": {
  "kernelspec": {
   "display_name": "Python 3",
   "language": "python",
   "name": "python3"
  },
  "language_info": {
   "codemirror_mode": {
    "name": "ipython",
    "version": 3
   },
   "file_extension": ".py",
   "mimetype": "text/x-python",
   "name": "python",
   "nbconvert_exporter": "python",
   "pygments_lexer": "ipython3",
   "version": "3.9.2"
  }
 },
 "nbformat": 4,
 "nbformat_minor": 5
}
