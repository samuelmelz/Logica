{
 "cells": [
  {
   "cell_type": "markdown",
   "id": "47bfe38f",
   "metadata": {},
   "source": [
    "# Classificação\n",
    "\n",
    "Uma vez que sabemos como avaliar as fórmulas através da tabela verdade, podemos classificá-las baseados nas possibilidades obtidas na tabela. Ao todo, temos 4 classificações possíveis: Tautologia, contradição, satisfatibilidade, equivalência.\n",
    "\n",
    "### Tautologia\n",
    "\n",
    "Uma tautologia é caracterizada por ser verdadeira para qualquer combinação de valores lógicos. \n",
    "\n",
    "#### Exemplo:\n",
    "\n",
    "(p -> q) v p\n",
    "\n",
    "Como veremos na tabela abaixo, qualquer combinação de valores lógicos nessa fórmula sempre trará o resultado \"true\" como resposta, por isso é uma tautologia."
   ]
  },
  {
   "cell_type": "code",
   "execution_count": 37,
   "id": "eec22ed7",
   "metadata": {},
   "outputs": [
    {
     "name": "stdout",
     "output_type": "stream",
     "text": [
      "+-------+-------+---------------+\n",
      "|   p   |   q   |  (p=>q) or p  |\n",
      "|-------+-------+---------------|\n",
      "| True  | True  |     True      |\n",
      "| True  | False |     True      |\n",
      "| False | True  |     True      |\n",
      "| False | False |     True      |\n",
      "+-------+-------+---------------+\n"
     ]
    }
   ],
   "source": [
    "import ttg\n",
    "\n",
    "print(ttg.Truths([\"p\", \"q\"], [\"(p=>q) or p\"], ints=False))\n"
   ]
  },
  {
   "cell_type": "markdown",
   "id": "d9289d7f",
   "metadata": {},
   "source": [
    "### Contradição\n",
    "\n",
    "Uma contradição é o exato oposto da tautologia. Aqui, para quaisquer valores lógicos, a resposta sempre será falsa. \n",
    "\n",
    "#### Exemplo:\n",
    "\n",
    "¬((p -> q) v r)\n",
    "\n",
    "Como veremos na tabela abaixo, qualquer combinação de valores lógicos nessa fórmula sempre trará o resultado \"false\" como resposta, por isso é uma contradição."
   ]
  },
  {
   "cell_type": "code",
   "execution_count": 38,
   "id": "fed8776b",
   "metadata": {},
   "outputs": [
    {
     "name": "stdout",
     "output_type": "stream",
     "text": [
      "+-------+-------+------------------+\n",
      "|   p   |   q   |  -((p=>q) or p)  |\n",
      "|-------+-------+------------------|\n",
      "| True  | True  |      False       |\n",
      "| True  | False |      False       |\n",
      "| False | True  |      False       |\n",
      "| False | False |      False       |\n",
      "+-------+-------+------------------+\n"
     ]
    }
   ],
   "source": [
    "import ttg\n",
    "\n",
    "print(ttg.Truths([\"p\", \"q\"], [\"-((p=>q) or p)\"], ints=False))"
   ]
  },
  {
   "cell_type": "markdown",
   "id": "0a060e27",
   "metadata": {},
   "source": [
    "### Satisfatibilidade\n",
    "\n",
    "A satisfatibilidade ocorre quando houver pelo menos uma interpretação da fórmula que resulte num valor lógico verdadeiro. \n",
    "\n",
    "#### Exemplo:\n",
    "\n",
    "¬((p -> q) v r)\n",
    "\n",
    "Como podemos ver na tabela, existe pelo menos um caso no qual a fórmula tem valor lógico verdadeiro. É importante lembrar que uma tautologia é necessariamente satisfatível."
   ]
  },
  {
   "cell_type": "code",
   "execution_count": 39,
   "id": "ccf4597c",
   "metadata": {},
   "outputs": [
    {
     "name": "stdout",
     "output_type": "stream",
     "text": [
      "+-------+-------+-------+------------------+\n",
      "|   p   |   q   |   r   |  -((p=>q) or r)  |\n",
      "|-------+-------+-------+------------------|\n",
      "| True  | True  | True  |      False       |\n",
      "| True  | True  | False |      False       |\n",
      "| True  | False | True  |      False       |\n",
      "| True  | False | False |       True       |\n",
      "| False | True  | True  |      False       |\n",
      "| False | True  | False |      False       |\n",
      "| False | False | True  |      False       |\n",
      "| False | False | False |      False       |\n",
      "+-------+-------+-------+------------------+\n"
     ]
    }
   ],
   "source": [
    "import ttg\n",
    "\n",
    "print(ttg.Truths([\"p\", \"q\", \"r\"], [\"-((p=>q) or r)\"], ints=False))"
   ]
  },
  {
   "cell_type": "markdown",
   "id": "89b7a450",
   "metadata": {},
   "source": [
    "### Equivalência \n",
    "\n",
    "A equivalência ocorre quando duas fórmulas têm exatamente o mesmo significado, ou seja, para quaisquer valores lógicos, as duas fórmulas têm o mesmo resultado. \n",
    "Essa necessidade de que as duas fórmulas tenham sempre o mesmo valor lógico faz lembrar a bi-implicação e é exatamente isso. Uma forma de descobrir se duas fórmulas são equivalentes é realizar uma bi-implicação entre elas; se o resultado for uma tautologia, as fórmulas são equivalentes. \n",
    "\n",
    "#### Exemplo:\n",
    "\n",
    "Testaremos se as duas fórmulas abaixo são equivalentes\n",
    "* (p -> q) \n",
    "* (¬q -> ¬p)\n",
    "\n",
    "Realizando a bi-implicação entre elas, teremos **(p -> q) <-> (-q -> -p)**"
   ]
  },
  {
   "cell_type": "code",
   "execution_count": 40,
   "id": "fdb04d73",
   "metadata": {},
   "outputs": [
    {
     "name": "stdout",
     "output_type": "stream",
     "text": [
      "+-------+-------+--------+----------+-----------------------+\n",
      "|   p   |   q   |  p=>q  |  -q=>-p  |  ((-q)=>(-p))=(p=>q)  |\n",
      "|-------+-------+--------+----------+-----------------------|\n",
      "| True  | True  |  True  |   True   |         True          |\n",
      "| True  | False | False  |  False   |         True          |\n",
      "| False | True  |  True  |   True   |         True          |\n",
      "| False | False |  True  |   True   |         True          |\n",
      "+-------+-------+--------+----------+-----------------------+\n"
     ]
    }
   ],
   "source": [
    "import ttg\n",
    "\n",
    "print(ttg.Truths([\"p\", \"q\"], [\"p=>q\", \"-q=>-p\", \"((-q)=>(-p))=(p=>q)\"], ints=False))"
   ]
  },
  {
   "cell_type": "markdown",
   "id": "e80a2d43",
   "metadata": {},
   "source": [
    "Como tivemos uma tautologia na bi-implicação entre as duas fórmulas, podemos garantir que são equivalentes."
   ]
  }
 ],
 "metadata": {
  "kernelspec": {
   "display_name": "Python 3",
   "language": "python",
   "name": "python3"
  },
  "language_info": {
   "codemirror_mode": {
    "name": "ipython",
    "version": 3
   },
   "file_extension": ".py",
   "mimetype": "text/x-python",
   "name": "python",
   "nbconvert_exporter": "python",
   "pygments_lexer": "ipython3",
   "version": "3.9.2"
  }
 },
 "nbformat": 4,
 "nbformat_minor": 5
}
