{
 "cells": [
  {
   "cell_type": "markdown",
   "id": "3fad33cf",
   "metadata": {},
   "source": [
    "# Conjunção\n",
    "\n",
    "A conjunção é a operação lógica caracterizada pela conjunção \"e\", representada por \" ^ \". Na conjunção, para que a proposição composta seja verdadeira, necessitamos que as duas proposições simples sejam verdadeiras. Podemos interpretar essa operação como a interseção entre duas condições. \n",
    "\n",
    "#### Exemplo:\n",
    "\n",
    "p = \"Encontrei você na rua\"\n",
    "\n",
    "q = \"Um carro bateu no poste\"\n",
    "\n",
    "p ^ q = Encontrei você na rua e um carro bateu no poste\n",
    "\n"
   ]
  },
  {
   "cell_type": "markdown",
   "id": "b047121c",
   "metadata": {},
   "source": [
    "Nesse caso, a afirmação apenas será verdadeira se encontrei você na rua e se um carro bateu no poste. Não ocorrendo qualquer um desses casos, a afirmação é falsa\n",
    "\n",
    "#### Tabela verdade"
   ]
  },
  {
   "cell_type": "code",
   "execution_count": 2,
   "id": "df04f2cb",
   "metadata": {},
   "outputs": [
    {
     "name": "stdout",
     "output_type": "stream",
     "text": [
      "+-------+-------+-----------+\n",
      "|   p   |   q   |  p and q  |\n",
      "|-------+-------+-----------|\n",
      "| True  | True  |   True    |\n",
      "| True  | False |   False   |\n",
      "| False | True  |   False   |\n",
      "| False | False |   False   |\n",
      "+-------+-------+-----------+\n"
     ]
    }
   ],
   "source": [
    "import ttg\n",
    "\n",
    "print(ttg.Truths([\"p\", \"q\"], [\"p and q\"], ints=False))\n"
   ]
  },
  {
   "cell_type": "markdown",
   "id": "e0e2f139",
   "metadata": {},
   "source": [
    "#### Propriedades:\n",
    "V(p ^ q) = V(p) ^ V(q)\n",
    "\n",
    "V(p) ^ V(q) = V(q) ^ V(p)"
   ]
  },
  {
   "cell_type": "code",
   "execution_count": null,
   "id": "f947a12c",
   "metadata": {},
   "outputs": [],
   "source": []
  }
 ],
 "metadata": {
  "kernelspec": {
   "display_name": "Python 3",
   "language": "python",
   "name": "python3"
  },
  "language_info": {
   "codemirror_mode": {
    "name": "ipython",
    "version": 3
   },
   "file_extension": ".py",
   "mimetype": "text/x-python",
   "name": "python",
   "nbconvert_exporter": "python",
   "pygments_lexer": "ipython3",
   "version": "3.9.2"
  }
 },
 "nbformat": 4,
 "nbformat_minor": 5
}
