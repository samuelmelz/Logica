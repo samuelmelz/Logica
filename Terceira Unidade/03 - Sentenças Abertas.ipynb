{
 "cells": [
  {
   "cell_type": "markdown",
   "id": "07c6bc24",
   "metadata": {},
   "source": [
    "# Sentenças Abertas\n",
    "\n",
    "Uma sentença P(x) é considerada aberta, em um dado conjunto, caso assuma valores V ou F quando se substitui x por um elemento qualquer do conjunto dado.\n",
    "\n",
    "### Conjunto Verdade de uma sentença aberta\n",
    "\n",
    "O conjunto verdade é o conjunto de todos os valores x que tornam P(x) uma proposição verdadeira.\n",
    "\n",
    "### Implicação entre sentenças abertas\n",
    "\n",
    "Diz-se que uma sentença aberta P(x) implica em outra Q(x), caso o conjunto verdade de Q(x) contenha todos os elementos do conjunto verdade de P(x). É semelhante à implicação entre fórmulas estudada na unidade anterior.\n",
    "\n",
    "### Implicação entre sentenças abertas\n",
    "\n",
    "Uma sentença P(x) é equivalente a uma Q(x) caso os conjuntos verdade das duas sentenças sejam iguais. Também se assemelha à equivalência entre fórmulas na unidade anterior. "
   ]
  }
 ],
 "metadata": {
  "kernelspec": {
   "display_name": "Python 3",
   "language": "python",
   "name": "python3"
  },
  "language_info": {
   "codemirror_mode": {
    "name": "ipython",
    "version": 3
   },
   "file_extension": ".py",
   "mimetype": "text/x-python",
   "name": "python",
   "nbconvert_exporter": "python",
   "pygments_lexer": "ipython3",
   "version": "3.9.2"
  }
 },
 "nbformat": 4,
 "nbformat_minor": 5
}
