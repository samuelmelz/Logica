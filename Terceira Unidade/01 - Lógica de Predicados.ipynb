{
 "cells": [
  {
   "cell_type": "markdown",
   "id": "1bc8ed29",
   "metadata": {},
   "source": [
    "# Lógica de Predicados\n",
    "\n",
    "Ao longo do curso, vimos diversas situações que podíamos tratar utilizando a lógica de predicados, porém há algumas outras em que isso não é possível. Para tratar estes casos, surge a lógica de predicados. Esses casos costumam ocorrer quando temos uma expressão quantitativa associada a uma proposição, como por exemplo \"todo\", \"algum\", \"nenhum\", \"pelo menos um\" etc.\n",
    "\n",
    "### Sintaxe\n",
    "\n",
    "Ao analisarmos uma proposição, podemos destacar duas partes: o termo e o predicado. O termo é o sujeito da proposição e o predicado é o que se fala sobre esse sujeito.\n",
    "\n",
    "Aqui, temos o surgimento de alguns outros símbolos que quantificam a proposição, como dito no começo da página. \n",
    "\n",
    "* ∀ - Todos\n",
    "\n",
    "* ∃ - Existe pelo menos um\n",
    "\n",
    "### Definições\n",
    "\n",
    "#### Aridade\n",
    "\n",
    "A quantidade de parâmetros necessários àquela função ou àquele predicado.\n",
    "\n",
    "#### Átomo\n",
    "   \n",
    "Um átomo é o símbolo de um predicado, acompanhado de seus termos. Exemplos: p(t1), g(t1, t2).\n",
    "\n",
    "#### Fórmula\n",
    "\n",
    "Uma fórmula na lógica de predicados é todo átomo isolado ou sobre o qual se aplicam operações lógicas. Exemplos: H, ¬H, H ^ G, ((∀x) H)\n",
    "\n",
    "#### Literal\n",
    "\n",
    "É um átomo acompanhado ou não de uma negação. Se não estiver acompanhado de uma negação, é um literal positivo; se estiver acompanhado de uma negação, é um literal negativo\n",
    "\n",
    "#### Forma Normal\n",
    "\n",
    "Aqui temos o mesmo conceito da unidade anterior. Será uma FNC quando houver uma conjunção de disjunções de literais e será uma FND quando houver uma disjução de conjunções de literais."
   ]
  }
 ],
 "metadata": {
  "kernelspec": {
   "display_name": "Python 3",
   "language": "python",
   "name": "python3"
  },
  "language_info": {
   "codemirror_mode": {
    "name": "ipython",
    "version": 3
   },
   "file_extension": ".py",
   "mimetype": "text/x-python",
   "name": "python",
   "nbconvert_exporter": "python",
   "pygments_lexer": "ipython3",
   "version": "3.9.2"
  }
 },
 "nbformat": 4,
 "nbformat_minor": 5
}
