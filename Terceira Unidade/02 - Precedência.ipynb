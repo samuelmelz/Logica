{
 "cells": [
  {
   "cell_type": "markdown",
   "id": "734bb0cf",
   "metadata": {},
   "source": [
    "# Precedência\n",
    "\n",
    "Como houve uma adição de operações, precisamos reformular a lista de precedência, que, na lógica de predicados, passa a ser assim.\n",
    "\n",
    "1 - ( ) - Parênteses\n",
    "\n",
    "2 - ∀, ∃ - Quantificador universal e quantificado existencial\n",
    "\n",
    "3 - ->, <-> - Implicação e bi-implicação\n",
    "\n",
    "4 - ^, v - Conjunção e disjunção\n",
    "\n",
    "5 - ¬ - Negação"
   ]
  }
 ],
 "metadata": {
  "kernelspec": {
   "display_name": "Python 3",
   "language": "python",
   "name": "python3"
  },
  "language_info": {
   "codemirror_mode": {
    "name": "ipython",
    "version": 3
   },
   "file_extension": ".py",
   "mimetype": "text/x-python",
   "name": "python",
   "nbconvert_exporter": "python",
   "pygments_lexer": "ipython3",
   "version": "3.9.2"
  }
 },
 "nbformat": 4,
 "nbformat_minor": 5
}
